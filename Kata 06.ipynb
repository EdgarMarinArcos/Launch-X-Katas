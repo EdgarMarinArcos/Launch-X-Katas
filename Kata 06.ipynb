{
 "cells": [
  {
   "cell_type": "markdown",
   "metadata": {},
   "source": [
    "# Kata 06"
   ]
  },
  {
   "cell_type": "markdown",
   "metadata": {},
   "source": [
    "### Ejercicio 1"
   ]
  },
  {
   "cell_type": "code",
   "execution_count": 4,
   "metadata": {},
   "outputs": [
    {
     "name": "stdout",
     "output_type": "stream",
     "text": [
      "El primer planeta del sistema solar es  Mercurio\n",
      "El sistema solar tiene  9 planetas. El último planeta es Plutón\n"
     ]
    }
   ],
   "source": [
    "# Lista de planetas del sistema solar\n",
    "planets = ['Mercurio','Venus','Tierra','Marte','Jupiter','Saturno','Urano','Neptuno']\n",
    "print ('El primer planeta del sistema solar es ' , planets[0])\n",
    "planets.append('Plutón')\n",
    "numero_de_planetas = len(planets)\n",
    "print ('El sistema solar tiene ' , numero_de_planetas , 'planetas. El último planeta es' , planets[-1])"
   ]
  },
  {
   "cell_type": "markdown",
   "metadata": {},
   "source": [
    "### Ejercicio 2"
   ]
  },
  {
   "cell_type": "code",
   "execution_count": 7,
   "metadata": {},
   "outputs": [
    {
     "name": "stdout",
     "output_type": "stream",
     "text": [
      "Los planetas mas cercanos al sol antes de  Tierra  son  ['Mercurio', 'Venus']\n",
      "Los planetas mas lejanos al sol después de  Tierra  son  ['Marte', 'Jupiter', 'Saturno', 'Urano', 'Neptune', 'Plutón']\n"
     ]
    }
   ],
   "source": [
    "# Ubicar planetas cercanos al sol\n",
    "planetas = ['Mercurio', 'Venus', 'Tierra', 'Marte', 'Jupiter', 'Saturno', 'Urano' ,'Neptune', 'Plutón']\n",
    "Ubicar_planeta = input('Ingrese el nombre del planeta (ingrese con letra mayúscula la letra inicial): ')\n",
    "busc_planeta = planetas.index(Ubicar_planeta)\n",
    "print ('Los planetas mas cercanos al sol antes de ' ,Ubicar_planeta, ' son ' , planetas[0:busc_planeta])\n",
    "print ('Los planetas mas lejanos al sol después de ' ,Ubicar_planeta, ' son ', planetas[busc_planeta + 1:])"
   ]
  }
 ],
 "metadata": {
  "interpreter": {
   "hash": "69eb92836b941e979072a76c7fcfffe5419cca933cedd02cfafbdfca1a93358c"
  },
  "kernelspec": {
   "display_name": "Python 3.9.10 64-bit",
   "language": "python",
   "name": "python3"
  },
  "language_info": {
   "codemirror_mode": {
    "name": "ipython",
    "version": 3
   },
   "file_extension": ".py",
   "mimetype": "text/x-python",
   "name": "python",
   "nbconvert_exporter": "python",
   "pygments_lexer": "ipython3",
   "version": "3.9.10"
  },
  "orig_nbformat": 4
 },
 "nbformat": 4,
 "nbformat_minor": 2
}
