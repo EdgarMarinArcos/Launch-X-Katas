{
 "cells": [
  {
   "cell_type": "markdown",
   "metadata": {},
   "source": [
    "# Kata 1\n"
   ]
  },
  {
   "cell_type": "markdown",
   "metadata": {},
   "source": [
    "## 1.-Fecha"
   ]
  },
  {
   "cell_type": "code",
   "execution_count": 1,
   "metadata": {},
   "outputs": [
    {
     "name": "stdout",
     "output_type": "stream",
     "text": [
      "Programa que revela la fecha de hoy\n",
      "El día de hoy es 2022-02-15\n"
     ]
    }
   ],
   "source": [
    "from datetime import date\n",
    "print(\"Programa que revela la fecha de hoy\")\n",
    "print (\"El día de hoy es \" + str(date.today()))"
   ]
  },
  {
   "cell_type": "markdown",
   "metadata": {},
   "source": [
    "# 2.- Convertidor de unidades"
   ]
  },
  {
   "cell_type": "code",
   "execution_count": 11,
   "metadata": {},
   "outputs": [
    {
     "name": "stdout",
     "output_type": "stream",
     "text": [
      "Progrma que convierte los pársec (Unidad de distancia astronómica) a años luz\n",
      "10 Pársec = 32.62 Años luz\n"
     ]
    }
   ],
   "source": [
    "print (\"Progrma que convierte los pársec (Unidad de distancia astronómica) a años luz\")\n",
    "v = 3.262\n",
    "Pársec = input(\"Introduzca la cantidad de Pársec: \")\n",
    "Lightyear = (float (v) * int (Pársec))\n",
    "print (str (Pársec) + \" Pársec = \" + str (Lightyear) + \" Años luz\")"
   ]
  }
 ],
 "metadata": {
  "interpreter": {
   "hash": "69eb92836b941e979072a76c7fcfffe5419cca933cedd02cfafbdfca1a93358c"
  },
  "kernelspec": {
   "display_name": "Python 3.9.10 64-bit",
   "language": "python",
   "name": "python3"
  },
  "language_info": {
   "codemirror_mode": {
    "name": "ipython",
    "version": 3
   },
   "file_extension": ".py",
   "mimetype": "text/x-python",
   "name": "python",
   "nbconvert_exporter": "python",
   "pygments_lexer": "ipython3",
   "version": "3.9.10"
  },
  "orig_nbformat": 4
 },
 "nbformat": 4,
 "nbformat_minor": 2
}
