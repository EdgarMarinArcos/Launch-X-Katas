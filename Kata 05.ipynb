{
 "cells": [
  {
   "cell_type": "markdown",
   "metadata": {},
   "source": [
    "# Kata 05"
   ]
  },
  {
   "cell_type": "markdown",
   "metadata": {},
   "source": [
    "### Ejercicio 1"
   ]
  },
  {
   "cell_type": "code",
   "execution_count": 7,
   "metadata": {},
   "outputs": [
    {
     "name": "stdout",
     "output_type": "stream",
     "text": [
      "La distancia entre Jupiter y la tierra es de 390577533.93 millas = 628949330 kilómetros\n"
     ]
    }
   ],
   "source": [
    "# Programa para calcular la distancia entre Jupiter y la Tierra\n",
    "Dis_Jupiter = 778547200 #Distancia en millas\n",
    "Dis_Tierra = 149597870\n",
    "Diferencia_km = (Dis_Jupiter - Dis_Tierra) # Distancia en Kilometros\n",
    "Diferencia = (Dis_Jupiter - Dis_Tierra) * (.621) #Distancia en millas\n",
    "print ('La distancia entre Jupiter y la tierra es de ' + str (Diferencia) + ' millas = ' + str(Diferencia_km) + ' kilómetros')"
   ]
  },
  {
   "cell_type": "markdown",
   "metadata": {},
   "source": [
    "### Ejercicio 2"
   ]
  },
  {
   "cell_type": "code",
   "execution_count": 11,
   "metadata": {},
   "outputs": [
    {
     "name": "stdout",
     "output_type": "stream",
     "text": [
      "Distancia entre Marte y Mercurio : \n",
      "222 km \n",
      "137.862 millas\n"
     ]
    }
   ],
   "source": [
    "# Distancia entre dos planetas del sistema solar\n",
    "Nombre_1 = input ('¿Cómo se llama el primer planeta? : ')\n",
    "Planeta_1 = input ('Ingresa la distancia del primer planeta: ')\n",
    "Planeta_1entero = int (Planeta_1)\n",
    "Nombre_2 = input ('¿Cómo se llama el segundo planeta? : ')\n",
    "Planeta_2 = input ('Ingresa la distancia del segundo planeta: ')\n",
    "Planeta_2entero = int (Planeta_2)\n",
    "Diferencia_kim = abs (Planeta_1entero - Planeta_2entero)\n",
    "Diferencia_millas = abs (Planeta_1entero - Planeta_2entero) * (.621)\n",
    "print ('Distancia entre ' + (Nombre_1) + ' y ' + (Nombre_2) + \" : \\n\" + str(Diferencia_kim) + \" km \\n\" + str(Diferencia_millas) + \" millas\" )"
   ]
  }
 ],
 "metadata": {
  "interpreter": {
   "hash": "69eb92836b941e979072a76c7fcfffe5419cca933cedd02cfafbdfca1a93358c"
  },
  "kernelspec": {
   "display_name": "Python 3.9.10 64-bit",
   "language": "python",
   "name": "python3"
  },
  "language_info": {
   "codemirror_mode": {
    "name": "ipython",
    "version": 3
   },
   "file_extension": ".py",
   "mimetype": "text/x-python",
   "name": "python",
   "nbconvert_exporter": "python",
   "pygments_lexer": "ipython3",
   "version": "3.9.10"
  },
  "orig_nbformat": 4
 },
 "nbformat": 4,
 "nbformat_minor": 2
}
