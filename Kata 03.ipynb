{
 "cells": [
  {
   "cell_type": "markdown",
   "metadata": {},
   "source": [
    "# Kata 3"
   ]
  },
  {
   "cell_type": "code",
   "execution_count": 3,
   "metadata": {},
   "outputs": [
    {
     "name": "stdout",
     "output_type": "stream",
     "text": [
      "Asteroides cerca de la tierra\n",
      "No hay riesgo, todo trancas carnal :)\n"
     ]
    }
   ],
   "source": [
    "print (\"Asteroides cerca de la tierra\")\n",
    "v_ast = int (input (\"Ingrese la velocidad del asteroide : \"))\n",
    "d_ast = int (input (\"Ingresa la dimensión del asteroide : \"))\n",
    "if v_ast > 25 and d_ast > 25:\n",
    "    print (\"Alerta critica: Asteroide muy cerca de la tierra :S\")\n",
    "    print (\"Alerta de daño critico a la tierra por colisión de asteroide\")\n",
    "elif v_ast >= 20:\n",
    "     print (\"Este asteroide podrá verse en el cielo\")\n",
    "elif v_ast < 20 or d_ast < 25:\n",
    "    print (\"No hay riesgo, todo trancas carnal :)\")\n",
    "else:\n",
    "     print (\"No hay riesgo, todo trancas carnal :)\")"
   ]
  }
 ],
 "metadata": {
  "interpreter": {
   "hash": "69eb92836b941e979072a76c7fcfffe5419cca933cedd02cfafbdfca1a93358c"
  },
  "kernelspec": {
   "display_name": "Python 3.9.10 64-bit",
   "language": "python",
   "name": "python3"
  },
  "language_info": {
   "codemirror_mode": {
    "name": "ipython",
    "version": 3
   },
   "file_extension": ".py",
   "mimetype": "text/x-python",
   "name": "python",
   "nbconvert_exporter": "python",
   "pygments_lexer": "ipython3",
   "version": "3.9.10"
  },
  "orig_nbformat": 4
 },
 "nbformat": 4,
 "nbformat_minor": 2
}
